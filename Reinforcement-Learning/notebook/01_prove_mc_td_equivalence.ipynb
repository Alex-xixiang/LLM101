{
 "cells": [
  {
   "cell_type": "markdown",
   "metadata": {},
   "source": [
    "#### 数值上证明蒙特卡洛误差分解为若干个时序差分误差的和"
   ]
  },
  {
   "cell_type": "code",
   "execution_count": 2,
   "metadata": {},
   "outputs": [],
   "source": [
    "import numpy as np"
   ]
  },
  {
   "cell_type": "code",
   "execution_count": 7,
   "metadata": {},
   "outputs": [],
   "source": [
    "def generate_episode(T=5, reward_scale=1.0, seed=None):\n",
    "    \"\"\"\n",
    "    随机生成一个回合的奖励序列。这里假设到 T 步就结束，简化处理。\n",
    "    \"\"\"\n",
    "    if seed is not None:\n",
    "        np.random.seed(seed)\n",
    "    # 生成 T 步的奖励序列\n",
    "    rewards = np.random.randn(T) * reward_scale\n",
    "    return rewards\n"
   ]
  },
  {
   "cell_type": "code",
   "execution_count": 11,
   "metadata": {},
   "outputs": [],
   "source": [
    "def random_value_function(T=5, seed=None):\n",
    "    \"\"\"\n",
    "    随机生成一个用于对比的价值函数（长度 T + 1，最后一个视作终止状态时的价值为 0）。\n",
    "    \"\"\"\n",
    "    if seed is not None:\n",
    "        np.random.seed(seed)\n",
    "    # 对于简化，这里假设 V 有 T+1 个“状态”（索引 0~T），最后一个状态价值设为 0\n",
    "    V = np.random.randn(T+1)\n",
    "    V[-1] = 0.0  # 终止状态价值\n",
    "    return V"
   ]
  },
  {
   "cell_type": "code",
   "execution_count": 16,
   "metadata": {},
   "outputs": [
    {
     "name": "stdout",
     "output_type": "stream",
     "text": [
      "rewards:  [ 0.49671415 -0.1382643   0.64768854  1.52302986 -0.23415337]\n",
      "V:  [ 0.49671415 -0.1382643   0.64768854  1.52302986 -0.23415337  0.        ]\n"
     ]
    }
   ],
   "source": [
    "T = 5\n",
    "gamma = 0.9\n",
    "seed = 42\n",
    "rewards = generate_episode(T, reward_scale=1.0, seed=seed)\n",
    "V = random_value_function(T, seed=seed)\n",
    "print(\"rewards: \", rewards)\n",
    "print(\"V: \", V)"
   ]
  },
  {
   "cell_type": "markdown",
   "metadata": {},
   "source": [
    "1. 计算蒙特卡洛误差\n"
   ]
  },
  {
   "cell_type": "code",
   "execution_count": 18,
   "metadata": {},
   "outputs": [
    {
     "name": "stdout",
     "output_type": "stream",
     "text": [
      "蒙特卡洛误差: 1.3568505809729647\n"
     ]
    }
   ],
   "source": [
    "G = 0.0\n",
    "for k, r in enumerate(rewards):\n",
    "    G += (gamma ** k) * r\n",
    "\n",
    "mc_error = G - V[0]\n",
    "print(f\"蒙特卡洛误差: {mc_error}\")"
   ]
  },
  {
   "cell_type": "markdown",
   "metadata": {},
   "source": [
    "2. 计算TD误差\n"
   ]
  },
  {
   "cell_type": "code",
   "execution_count": 19,
   "metadata": {},
   "outputs": [
    {
     "name": "stdout",
     "output_type": "stream",
     "text": [
      "时序差分误差: 1.6184706467527779\n"
     ]
    }
   ],
   "source": [
    "td_err_sum = 0.0\n",
    "for k, r in enumerate(rewards):\n",
    "    td_error  = r + gamma * V[k+1] - V[k]\n",
    "    td_err_sum += td_error\n",
    "\n",
    "print(f\"时序差分误差: {td_err_sum}\")\n"
   ]
  },
  {
   "cell_type": "code",
   "execution_count": 20,
   "metadata": {},
   "outputs": [
    {
     "name": "stdout",
     "output_type": "stream",
     "text": [
      "difference:  -0.2616200657798131\n"
     ]
    }
   ],
   "source": [
    "print(\"difference: \", mc_error - td_err_sum)"
   ]
  }
 ],
 "metadata": {
  "kernelspec": {
   "display_name": "Python 3",
   "language": "python",
   "name": "python3"
  },
  "language_info": {
   "codemirror_mode": {
    "name": "ipython",
    "version": 3
   },
   "file_extension": ".py",
   "mimetype": "text/x-python",
   "name": "python",
   "nbconvert_exporter": "python",
   "pygments_lexer": "ipython3",
   "version": "3.6.8"
  }
 },
 "nbformat": 4,
 "nbformat_minor": 2
}
