{
 "cells": [
  {
   "cell_type": "markdown",
   "metadata": {},
   "source": [
    "## GRPO相关推导实现"
   ]
  },
  {
   "cell_type": "markdown",
   "metadata": {},
   "source": [
    "#### 1. 优势函数部分"
   ]
  },
  {
   "cell_type": "markdown",
   "metadata": {},
   "source": [
    "在GRPO中，优势函数通过真实环境中的一组奖励reward计算得到，而不是通过对价值估计来计算得到的。\n",
    "$$ A_i = \\frac{r_i - mean({r_1, r2,...,r_G})}{std({r1, r2,...,r_G})}  $$"
   ]
  },
  {
   "cell_type": "markdown",
   "metadata": {},
   "source": [
    "##### 代码实现"
   ]
  },
  {
   "cell_type": "code",
   "execution_count": 13,
   "metadata": {},
   "outputs": [],
   "source": [
    "import torch"
   ]
  },
  {
   "cell_type": "code",
   "execution_count": 14,
   "metadata": {},
   "outputs": [],
   "source": [
    "def grpo_adv(rewards):\n",
    "    \"\"\"\n",
    "    计算GRPO中的优势函数\n",
    "    \n",
    "    Args:\n",
    "        rewards: 一组奖励值，形状为 [batch_size]\n",
    "        \n",
    "    Returns:\n",
    "        advantages: 计算得到的优势函数值，形状与rewards相同\n",
    "    \"\"\"\n",
    "    \n",
    "    # 计算rewards的均值和标准差\n",
    "    mean_rewards = torch.mean(rewards)\n",
    "    std_rewards = torch.std(rewards)\n",
    "    \n",
    "    # 防止除以零\n",
    "    if std_rewards == 0:\n",
    "        return torch.zeros_like(rewards)\n",
    "    \n",
    "    # 计算优势函数\n",
    "    advantages = (rewards - mean_rewards) / (std_rewards + 1e-8)\n",
    "    \n",
    "    return advantages\n",
    "    "
   ]
  },
  {
   "cell_type": "code",
   "execution_count": 15,
   "metadata": {},
   "outputs": [
    {
     "name": "stdout",
     "output_type": "stream",
     "text": [
      "tensor([0., 1., 0., 1., 1., 0.])\n",
      "tensor([-0.9129,  0.9129, -0.9129,  0.9129,  0.9129, -0.9129])\n"
     ]
    }
   ],
   "source": [
    "rewards = torch.tensor([0, 1, 0, 1, 1, 0], dtype=torch.float)\n",
    "# convert to float\n",
    "print(rewards)\n",
    "adv_rst = grpo_adv(rewards)\n",
    "print(adv_rst)"
   ]
  },
  {
   "cell_type": "markdown",
   "metadata": {},
   "source": [
    "#### 2. KL散度部分"
   ]
  },
  {
   "cell_type": "markdown",
   "metadata": {},
   "source": [
    "GRPO采用KL散度来计算两个概率分布之间的差异\n",
    "$$ \\text{D}_{\\text{KL}} \\left( \\pi_{\\theta} \\left\\| \\pi_{\\text{ref}} \\right\\| \\right) = \\frac{\\pi_{\\text{ref}}(o_i|q)}{\\pi_{\\theta}(o_i|q)} - \\log \\frac{\\pi_{\\text{ref}}(o_i|q)}{\\pi_{\\theta}(o_i|q)} - 1 $$"
   ]
  },
  {
   "cell_type": "markdown",
   "metadata": {},
   "source": [
    "##### 代码实现"
   ]
  },
  {
   "cell_type": "code",
   "execution_count": null,
   "metadata": {},
   "outputs": [],
   "source": [
    "import torch"
   ]
  },
  {
   "cell_type": "code",
   "execution_count": 19,
   "metadata": {},
   "outputs": [],
   "source": [
    "def grpo_kl(pi_logprobs, pi_ref_logprobs):\n",
    "    \"\"\"\n",
    "    计算KL散度\n",
    "    \n",
    "    Args:\n",
    "    pi_logprobs: 当前策略的对数概率\n",
    "    pi_ref_logprobs: 参考策略的对数概率\n",
    "    \n",
    "    Return:\n",
    "    KL散度值\n",
    "    \"\"\"\n",
    "    # 计算概率比值的对数: log(pi_ref/pi) = log(pi_ref) - log(pi)\n",
    "    log_ratio = pi_ref_logprobs - pi_logprobs\n",
    "    \n",
    "    # 计算概率比值: pi_ref/pi = exp(log(pi_ref/pi))\n",
    "    ratio = torch.exp(log_ratio)\n",
    "    \n",
    "    # 计算KL散度: ratio - log(ratio) - 1\n",
    "    kl = ratio - log_ratio - 1.0\n",
    "    \n",
    "    return kl"
   ]
  },
  {
   "cell_type": "code",
   "execution_count": null,
   "metadata": {},
   "outputs": [],
   "source": [
    "\n",
    "# 创建随机的对数概率分布\n",
    "batch_size = 5\n",
    "pi_logprobs = torch.randn(batch_size)\n",
    "pi_ref_logprobs = torch.randn(batch_size)\n",
    "\n",
    "# 计算KL散度\n",
    "kl = grpo_kl(pi_logprobs, pi_ref_logprobs)\n",
    "\n",
    "# 打印结果\n",
    "print(\"当前策略的对数概率:\", pi_logprobs)\n",
    "print(\"参考策略的对数概率:\", pi_ref_logprobs)\n",
    "print(\"计算的KL散度:\", kl)\n",
    "print(\"KL散度平均值:\", kl.mean().item())\n",
    "\n"
   ]
  }
 ],
 "metadata": {
  "kernelspec": {
   "display_name": ".venv",
   "language": "python",
   "name": "python3"
  },
  "language_info": {
   "codemirror_mode": {
    "name": "ipython",
    "version": 3
   },
   "file_extension": ".py",
   "mimetype": "text/x-python",
   "name": "python",
   "nbconvert_exporter": "python",
   "pygments_lexer": "ipython3",
   "version": "3.9.6"
  }
 },
 "nbformat": 4,
 "nbformat_minor": 2
}
