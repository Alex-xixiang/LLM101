{
 "cells": [
  {
   "cell_type": "markdown",
   "metadata": {},
   "source": [
    "# 半梯度TD（Semi-gradient TD）的更新过程"
   ]
  },
  {
   "cell_type": "markdown",
   "metadata": {},
   "source": [
    "半梯度TD是用于函数近似情况下的强化学习方法，之所以叫半梯度，是因为在更新过程中只考虑了改变权重向量w_t对于估计的影响，而不考虑对目标值的影响（即梯度值）。"
   ]
  },
  {
   "cell_type": "markdown",
   "metadata": {},
   "source": [
    "在使用函数近似的情况下，我们用参数化函数 V(s,θ) 来近似真实的值函数 v_π(s)，其中 θ 是可调参数向量。"
   ]
  },
  {
   "cell_type": "markdown",
   "metadata": {},
   "source": [
    "### 半梯度TD更新公式"
   ]
  },
  {
   "cell_type": "markdown",
   "metadata": {},
   "source": [
    "$$ \\theta_{t+1} = \\theta_t + \\alpha \\cdot \\delta_t \\cdot \\nabla_\\theta V(s_t,\\theta_t) $$"
   ]
  },
  {
   "cell_type": "markdown",
   "metadata": {},
   "source": [
    "其中"
   ]
  }
 ],
 "metadata": {
  "kernelspec": {
   "display_name": "Python 3",
   "language": "python",
   "name": "python3"
  },
  "language_info": {
   "name": "python",
   "version": "3.10.11"
  }
 },
 "nbformat": 4,
 "nbformat_minor": 2
}
