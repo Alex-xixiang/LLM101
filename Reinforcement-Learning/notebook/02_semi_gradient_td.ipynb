{
 "cells": [
  {
   "cell_type": "markdown",
   "metadata": {},
   "source": [
    "# 半梯度TD（Semi-gradient TD）的更新过程"
   ]
  },
  {
   "cell_type": "markdown",
   "metadata": {},
   "source": [
    "半梯度TD是用于函数近似情况下的强化学习方法，之所以叫半梯度，是因为在更新过程中只考虑了改变权重向量w_t对于估计的影响，而不考虑对目标值的影响（即梯度值）。"
   ]
  },
  {
   "cell_type": "markdown",
   "metadata": {},
   "source": [
    "在使用函数近似的情况下，我们用参数化函数 V(s,θ) 来近似真实的值函数 v_π(s)，其中 θ 是可调参数向量。"
   ]
  },
  {
   "cell_type": "markdown",
   "metadata": {},
   "source": [
    "### 半梯度TD更新公式"
   ]
  },
  {
   "cell_type": "markdown",
   "metadata": {},
   "source": [
    "$$ \\theta_{t+1} = \\theta_t + \\alpha \\cdot \\delta_t \\cdot \\nabla_\\theta V(s_t,\\theta_t) $$"
   ]
  },
  {
   "cell_type": "markdown",
   "metadata": {},
   "source": [
    "其中:"
   ]
  },
  {
   "cell_type": "markdown",
   "metadata": {},
   "source": [
    "- θ_t 是时间 t 的参数向量\n",
    "- α 是学习率\n",
    "- δ_t 是TD误差：$\\delta_t = r_{t+1} + \\gamma V(s_{t+1},\\theta_t) - V(s_t,\\theta_t)$\n",
    "- $ \\nabla_\\theta V(s_t,\\theta_t)$ 是值函数关于参数的梯度"
   ]
  },
  {
   "cell_type": "markdown",
   "metadata": {},
   "source": [
    "### 算法实现步骤"
   ]
  },
  {
   "cell_type": "markdown",
   "metadata": {},
   "source": [
    "1. 初始化参数向量 $ \\theta $\n",
    "2. 对于每个回合（episode）   \n",
    "   a.初始化状态 $ s $  \n",
    "   b.对于回合中的每一步，直到终止:  \n",
    "      i. 选择动作a，观察奖励 $ r $ 和下一状态 $ s^{'} $    \n",
    "      ii. 计算TD误差 $ \\delta = r + \\gamma \\cdot V(s^{'}, \\theta) - V(s, \\theta)$  \n",
    "      iii. 计算梯度: $ \\nabla_\\theta V(s,\\theta)$  \n",
    "      iv. 更新参数: $ \\theta = \\theta + \\alpha \\cdot \\delta \\cdot \\nabla_\\theta V(s,\\theta) $   \n",
    "      v. 最终 $ s = s^{'} $ "
   ]
  },
  {
   "cell_type": "markdown",
   "metadata": {},
   "source": [
    "### 称为“半梯度”的原因？"
   ]
  },
  {
   "cell_type": "markdown",
   "metadata": {},
   "source": [
    "它之所以被称为\"半梯度\"，是因为在计算梯度时，我们只考虑了当前状态价值估计 $ V(s_t,θ_t) $ 的梯度，而没有考虑目标值 $ r_{t+1} + γV(s_{t+1},θ_t) 中 V(s_{t+1},θ_t) $  对 θ 的依赖。这种做法在计算上更简单，但理论上不是真正的梯度下降。"
   ]
  },
  {
   "cell_type": "code",
   "execution_count": 1,
   "metadata": {},
   "outputs": [
    {
     "name": "stdout",
     "output_type": "stream",
     "text": [
      "TD Error: 1.0\n",
      "Updated Parameters: [0.05 0.02 0.01 0.08]\n"
     ]
    }
   ],
   "source": [
    "import numpy as np\n",
    "\n",
    "class SemiGradientTD:\n",
    "    def __init__(self, feature_dim, alpha=0.1, gamma=0.9):\n",
    "        self.theta = np.zeros(feature_dim)  # 初始化参数\n",
    "        self.alpha = alpha                  # 学习率\n",
    "        self.gamma = gamma                  # 折扣因子\n",
    "        \n",
    "    def predict(self, features):\n",
    "        \"\"\"线性函数近似 V(s,θ) = θ^T·x(s)\"\"\"\n",
    "        return np.dot(self.theta, features)\n",
    "    \n",
    "    def update(self, features_t, reward, features_t_plus_1, done):\n",
    "        \"\"\"执行半梯度TD更新\"\"\"\n",
    "        # 当前状态的预测值\n",
    "        V_t = self.predict(features_t)\n",
    "        \n",
    "        # 下一状态的预测值（如果是终止状态则为0）\n",
    "        V_t_plus_1 = 0 if done else self.predict(features_t_plus_1)\n",
    "        \n",
    "        # 计算TD误差\n",
    "        td_error = reward + self.gamma * V_t_plus_1 - V_t\n",
    "        \n",
    "        # 半梯度TD更新：注意线性情况下梯度就是特征向量\n",
    "        self.theta += self.alpha * td_error * features_t\n",
    "        \n",
    "        return td_error\n",
    "\n",
    "# 使用示例\n",
    "if __name__ == \"__main__\":\n",
    "    # 假设状态特征维度为4\n",
    "    td_learner = SemiGradientTD(feature_dim=4)\n",
    "    \n",
    "    # 模拟一个更新步骤\n",
    "    current_features = np.array([0.5, 0.2, 0.1, 0.8])\n",
    "    reward = 1.0\n",
    "    next_features = np.array([0.4, 0.3, 0.2, 0.7])\n",
    "    done = False\n",
    "    \n",
    "    td_error = td_learner.update(current_features, reward, next_features, done)\n",
    "    print(f\"TD Error: {td_error}\")\n",
    "    print(f\"Updated Parameters: {td_learner.theta}\")"
   ]
  }
 ],
 "metadata": {
  "kernelspec": {
   "display_name": "Python 3",
   "language": "python",
   "name": "python3"
  },
  "language_info": {
   "codemirror_mode": {
    "name": "ipython",
    "version": 3
   },
   "file_extension": ".py",
   "mimetype": "text/x-python",
   "name": "python",
   "nbconvert_exporter": "python",
   "pygments_lexer": "ipython3",
   "version": "3.6.8"
  }
 },
 "nbformat": 4,
 "nbformat_minor": 2
}
